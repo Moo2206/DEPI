{
 "cells": [
  {
   "cell_type": "code",
   "execution_count": 1,
   "metadata": {},
   "outputs": [
    {
     "data": {
      "text/plain": [
       "array([[1, 1, 1, 1, 1],\n",
       "       [1, 1, 1, 1, 1],\n",
       "       [1, 1, 1, 1, 1]], dtype=int8)"
      ]
     },
     "execution_count": 1,
     "metadata": {},
     "output_type": "execute_result"
    }
   ],
   "source": [
    "import numpy as np\n",
    "x=np.ones((3,5),dtype=np.int8)\n",
    "x"
   ]
  },
  {
   "cell_type": "code",
   "execution_count": 2,
   "metadata": {},
   "outputs": [
    {
     "data": {
      "text/plain": [
       "array([1334, 1336, 1338])"
      ]
     },
     "execution_count": 2,
     "metadata": {},
     "output_type": "execute_result"
    }
   ],
   "source": [
    "x=np.arange(1334,1339,2)\n",
    "x"
   ]
  },
  {
   "cell_type": "code",
   "execution_count": 3,
   "metadata": {},
   "outputs": [
    {
     "name": "stdout",
     "output_type": "stream",
     "text": [
      "[[11 22 33]\n",
      " [41 52 63]]\n",
      "[[10 20]\n",
      " [60 80]]\n"
     ]
    }
   ],
   "source": [
    "import numpy as np\n",
    "\n",
    "# 1. Broadcasting\n",
    "# a) Add a 1D array `[1, 2, 3]` to each row of a 2D array `[[10, 20, 30], [40, 50, 60]]`.\n",
    "# Expected: [[11, 22, 33], [41, 52, 63]]\n",
    "arr = np.array([[10, 20, 30], [40, 50, 60]])\n",
    "arr1 = np.array([1,2,3])\n",
    "print(arr+arr1)\n",
    "\n",
    "# b) Multiply a 2D array `[[1, 2], [3, 4]]` by a 1D array `[10, 20]` column-wise.\n",
    "# Expected: [[10, 20], [60, 80]]\n",
    "\n",
    "arr = np.array([[1,2],[3,4]])\n",
    "arr1 = np.array([[10],[20]])\n",
    "print(arr*arr1)"
   ]
  },
  {
   "cell_type": "code",
   "execution_count": 34,
   "metadata": {},
   "outputs": [
    {
     "name": "stdout",
     "output_type": "stream",
     "text": [
      "2a\n",
      "[[[ 1  2  3  4]\n",
      "  [ 5  6  7  8]\n",
      "  [ 9 10 11 12]]\n",
      "\n",
      " [[13 14 15 16]\n",
      "  [17 18 19 20]\n",
      "  [21 22 23 24]]]\n",
      "2b\n",
      "[[ 4  8 12]\n",
      " [16 20 24]]\n",
      "2c\n",
      "[[[13 14 15 16]\n",
      "  [17 18 19 20]\n",
      "  [21 22 23 24]]\n",
      "\n",
      " [[ 1  2  3  4]\n",
      "  [ 5  6  7  8]\n",
      "  [ 9 10 11 12]]]\n",
      "2c\n",
      "[[[13 14 15 16]\n",
      "  [17 18 19 20]\n",
      "  [21 22 23 24]]\n",
      "\n",
      " [[ 1  2  3  4]\n",
      "  [ 5  6  7  8]\n",
      "  [ 9 10 11 12]]]\n",
      "2d\n"
     ]
    },
    {
     "data": {
      "text/plain": [
       "array([[[ 1, -1,  3, -1],\n",
       "        [ 5, -1,  7, -1],\n",
       "        [ 9, -1, 11, -1]],\n",
       "\n",
       "       [[13, -1, 15, -1],\n",
       "        [17, -1, 19, -1],\n",
       "        [21, -1, 23, -1]]])"
      ]
     },
     "execution_count": 34,
     "metadata": {},
     "output_type": "execute_result"
    }
   ],
   "source": [
    "# 2. Indexing and Slicing (High Dimensional Arrays)\n",
    "arr = np.arange(1, 25).reshape(2, 3, 4)\n",
    "print (\"2a\")\n",
    "print(arr)\n",
    "# a) Extract the second slice along axis 0.\n",
    "# Expected: [[13, 14, 15, 16], [17, 18, 19, 20], [21, 22, 23, 24]]\n",
    "\n",
    "# b) Extract all rows and the last column for all slices.\n",
    "# Expected: [[4, 8, 12], [16, 20, 24]]\n",
    "print (\"2b\")\n",
    "print(arr[:,:,-1])\n",
    "# c) Reverse the order of slices along axis 0.\n",
    "# Expected: [[[13, 14, 15, 16], ...], [[1, 2, 3, 4], ...]]\n",
    "print (\"2c\")\n",
    "reversed_arr = arr[::-1]\n",
    "print(reversed_arr)\n",
    "print (\"2c\")\n",
    "a1 = np.flip(arr,axis=0)\n",
    "print(a1)\n",
    "# d) Set all even elements in the array to -1.\n",
    "# Expected: All even numbers replaced by -1.\n",
    "print (\"2d\")\n",
    "arr[arr%2 ==0] = -1\n",
    "arr    \n",
    "                "
   ]
  },
  {
   "cell_type": "code",
   "execution_count": 49,
   "metadata": {},
   "outputs": [
    {
     "name": "stdout",
     "output_type": "stream",
     "text": [
      "3a\n",
      "[1 1 3 3 5 5]\n",
      "3b\n",
      "[1 2 2 3 3 3 4 4 4 4 5 5 5 5 5 6 6 6 6 6 6]\n"
     ]
    }
   ],
   "source": [
    "# 3. np.repeat\n",
    "# a) Given `arr = np.array([1, 2, 3, 4, 5, 6])`, create a new array where every odd element is repeated twice.\n",
    "# Expected: [1, 1, 3, 3, 5, 5]\n",
    "print(\"3a\")\n",
    "arr = np.array([1, 2, 3, 4, 5, 6])\n",
    "original = arr.copy()\n",
    "for i in range(arr.shape[0]-1):\n",
    "    if original[i]%2 != 0:\n",
    "        arr[i+1] = original[i]\n",
    "print(arr)        \n",
    "# b) Given `arr = np.array([1, 2, 3, 4, 5, 6])`, create a new array where elements are repeated based on their value.\n",
    "# For example, `1` is repeated once, `2` twice, etc.\n",
    "# Expected: [1, 2, 2, 3, 3, 3, 4, 4, 4, 4, ...]\n",
    "print(\"3b\")\n",
    "arr = np.array([1, 2, 3, 4, 5, 6])\n",
    "arr = np.repeat(arr,arr)\n",
    "print(arr)"
   ]
  },
  {
   "cell_type": "code",
   "execution_count": 57,
   "metadata": {},
   "outputs": [
    {
     "data": {
      "text/plain": [
       "array([0. , 0.5, 1. ])"
      ]
     },
     "execution_count": 57,
     "metadata": {},
     "output_type": "execute_result"
    }
   ],
   "source": [
    "# 4. Normalizing\n",
    "# a) Normalize a 1D array `arr = np.array([10, 20, 30])` to have values between 0 and 1.\n",
    "# Expected: [0.0, 0.5, 1.0]\n",
    "arr = np.array([10, 20, 30])\n",
    "normalized = (arr-arr.min()) / (arr.max()-arr.min())\n",
    "normalized"
   ]
  },
  {
   "cell_type": "code",
   "execution_count": 77,
   "metadata": {},
   "outputs": [
    {
     "name": "stdout",
     "output_type": "stream",
     "text": [
      "[[0 0 0]\n",
      " [0 1 2]\n",
      " [0 2 4]]\n",
      "5b\n"
     ]
    },
    {
     "data": {
      "text/plain": [
       "array([[0, 1, 1, 1],\n",
       "       [1, 0, 1, 1],\n",
       "       [1, 1, 0, 1],\n",
       "       [1, 1, 1, 0]])"
      ]
     },
     "execution_count": 77,
     "metadata": {},
     "output_type": "execute_result"
    }
   ],
   "source": [
    "# 5. Bonus Challenge\n",
    "# a) Create a 3x3 matrix where each element at position (i, j) is i * j.\n",
    "# Expected: [[0, 0, 0], [0, 1, 2], [0, 2, 4]]\n",
    "arr = np.fromfunction(lambda i,j : i*j,(3,3),dtype=int)\n",
    "print(arr)\n",
    "# b) Given a 4x4 matrix, replace all elements on the main diagonal with 0 without using a loop.\n",
    "# Expected: Diagonal elements replaced with 0.\n",
    "print(\"5b\")\n",
    "arr = np.ones((4,4),dtype=int)\n",
    "for i in range(arr.shape[0]):\n",
    "    for j in range(arr.shape[1]):\n",
    "        if i ==j:\n",
    "            arr[i][j] = 0\n",
    "arr            "
   ]
  },
  {
   "cell_type": "code",
   "execution_count": null,
   "metadata": {},
   "outputs": [
    {
     "name": "stdout",
     "output_type": "stream",
     "text": [
      "[[0. 0. 0.]\n",
      " [0. 1. 2.]\n",
      " [0. 2. 4.]]\n"
     ]
    }
   ],
   "source": [
    "arr = np.ones((3,3))\n",
    "print(\"5a\")\n",
    "for i in range(arr.shape[0]):\n",
    "    for j in range(arr.shape[1]):\n",
    "        arr[i][j] = i*j\n",
    "print(arr)\n",
    "        "
   ]
  }
 ],
 "metadata": {
  "kernelspec": {
   "display_name": "Python 3",
   "language": "python",
   "name": "python3"
  },
  "language_info": {
   "codemirror_mode": {
    "name": "ipython",
    "version": 3
   },
   "file_extension": ".py",
   "mimetype": "text/x-python",
   "name": "python",
   "nbconvert_exporter": "python",
   "pygments_lexer": "ipython3",
   "version": "3.11.3"
  }
 },
 "nbformat": 4,
 "nbformat_minor": 2
}
